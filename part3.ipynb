{
 "cells": [
  {
   "cell_type": "code",
   "execution_count": 1,
   "metadata": {
    "_cell_guid": "b1076dfc-b9ad-4769-8c92-a6c4dae69d19",
    "_uuid": "8f2839f25d086af736a60e9eeb907d3b93b6e0e5"
   },
   "outputs": [
    {
     "name": "stdout",
     "output_type": "stream",
     "text": [
      "/kaggle/input\n",
      "/kaggle/input/melanoma-image-insights\n",
      "/kaggle/input/siim-isic-melanoma-classification\n",
      "/kaggle/input/siim-isic-melanoma-classification/train\n",
      "/kaggle/input/siim-isic-melanoma-classification/tfrecords\n",
      "/kaggle/input/siim-isic-melanoma-classification/jpeg\n",
      "/kaggle/input/siim-isic-melanoma-classification/jpeg/train\n",
      "/kaggle/input/siim-isic-melanoma-classification/jpeg/test\n",
      "/kaggle/input/siim-isic-melanoma-classification/test\n"
     ]
    }
   ],
   "source": [
    "import os\n",
    "for dirname, _, filenames in os.walk('/kaggle/input'):\n",
    "    print(os.path.join(dirname))"
   ]
  },
  {
   "cell_type": "code",
   "execution_count": 2,
   "metadata": {
    "_cell_guid": "79c7e3d0-c299-4dcb-8224-4455121ee9b0",
    "_uuid": "d629ff2d2480ee46fbb7e2d37f6b5fab8052498a"
   },
   "outputs": [],
   "source": [
    "import numpy as np\n",
    "import pandas as pd\n",
    "import matplotlib.pyplot as plt\n",
    "import seaborn as sns\n",
    "import plotly\n",
    "import plotly.graph_objects as go\n",
    "import cv2\n",
    "import tensorflow as tf\n",
    "from functools import partial\n",
    "import sklearn\n",
    "from tqdm import tqdm_notebook as tqdm\n",
    "import gc\n",
    "%matplotlib inline"
   ]
  },
  {
   "cell_type": "code",
   "execution_count": 3,
   "metadata": {},
   "outputs": [
    {
     "name": "stdout",
     "output_type": "stream",
     "text": [
      "[]\n",
      "Number of GPU/s =  0\n",
      "Tensorflow version =  2.2.0\n"
     ]
    }
   ],
   "source": [
    "gpu = tf.config.experimental.list_physical_devices('GPU')\n",
    "print(gpu) # to confirm that TensorFlow is using the GPU.\n",
    "print(\"Number of GPU/s = \",len(gpu))\n",
    "print(\"Tensorflow version = \", tf.__version__)"
   ]
  },
  {
   "cell_type": "code",
   "execution_count": 4,
   "metadata": {},
   "outputs": [
    {
     "data": {
      "text/html": [
       "<div>\n",
       "<style scoped>\n",
       "    .dataframe tbody tr th:only-of-type {\n",
       "        vertical-align: middle;\n",
       "    }\n",
       "\n",
       "    .dataframe tbody tr th {\n",
       "        vertical-align: top;\n",
       "    }\n",
       "\n",
       "    .dataframe thead th {\n",
       "        text-align: right;\n",
       "    }\n",
       "</style>\n",
       "<table border=\"1\" class=\"dataframe\">\n",
       "  <thead>\n",
       "    <tr style=\"text-align: right;\">\n",
       "      <th></th>\n",
       "      <th>image_name</th>\n",
       "      <th>patient_id</th>\n",
       "      <th>sex</th>\n",
       "      <th>age_approx</th>\n",
       "      <th>anatom_site_general_challenge</th>\n",
       "      <th>diagnosis</th>\n",
       "      <th>benign_malignant</th>\n",
       "      <th>target</th>\n",
       "    </tr>\n",
       "  </thead>\n",
       "  <tbody>\n",
       "    <tr>\n",
       "      <th>0</th>\n",
       "      <td>ISIC_2637011</td>\n",
       "      <td>IP_7279968</td>\n",
       "      <td>male</td>\n",
       "      <td>45.0</td>\n",
       "      <td>head/neck</td>\n",
       "      <td>unknown</td>\n",
       "      <td>benign</td>\n",
       "      <td>0</td>\n",
       "    </tr>\n",
       "    <tr>\n",
       "      <th>1</th>\n",
       "      <td>ISIC_0015719</td>\n",
       "      <td>IP_3075186</td>\n",
       "      <td>female</td>\n",
       "      <td>45.0</td>\n",
       "      <td>upper extremity</td>\n",
       "      <td>unknown</td>\n",
       "      <td>benign</td>\n",
       "      <td>0</td>\n",
       "    </tr>\n",
       "    <tr>\n",
       "      <th>2</th>\n",
       "      <td>ISIC_0052212</td>\n",
       "      <td>IP_2842074</td>\n",
       "      <td>female</td>\n",
       "      <td>50.0</td>\n",
       "      <td>lower extremity</td>\n",
       "      <td>nevus</td>\n",
       "      <td>benign</td>\n",
       "      <td>0</td>\n",
       "    </tr>\n",
       "    <tr>\n",
       "      <th>3</th>\n",
       "      <td>ISIC_0068279</td>\n",
       "      <td>IP_6890425</td>\n",
       "      <td>female</td>\n",
       "      <td>45.0</td>\n",
       "      <td>head/neck</td>\n",
       "      <td>unknown</td>\n",
       "      <td>benign</td>\n",
       "      <td>0</td>\n",
       "    </tr>\n",
       "    <tr>\n",
       "      <th>4</th>\n",
       "      <td>ISIC_0074268</td>\n",
       "      <td>IP_8723313</td>\n",
       "      <td>female</td>\n",
       "      <td>55.0</td>\n",
       "      <td>upper extremity</td>\n",
       "      <td>unknown</td>\n",
       "      <td>benign</td>\n",
       "      <td>0</td>\n",
       "    </tr>\n",
       "  </tbody>\n",
       "</table>\n",
       "</div>"
      ],
      "text/plain": [
       "     image_name  patient_id     sex  age_approx anatom_site_general_challenge  \\\n",
       "0  ISIC_2637011  IP_7279968    male        45.0                     head/neck   \n",
       "1  ISIC_0015719  IP_3075186  female        45.0               upper extremity   \n",
       "2  ISIC_0052212  IP_2842074  female        50.0               lower extremity   \n",
       "3  ISIC_0068279  IP_6890425  female        45.0                     head/neck   \n",
       "4  ISIC_0074268  IP_8723313  female        55.0               upper extremity   \n",
       "\n",
       "  diagnosis benign_malignant  target  \n",
       "0   unknown           benign       0  \n",
       "1   unknown           benign       0  \n",
       "2     nevus           benign       0  \n",
       "3   unknown           benign       0  \n",
       "4   unknown           benign       0  "
      ]
     },
     "execution_count": 4,
     "metadata": {},
     "output_type": "execute_result"
    }
   ],
   "source": [
    "train = pd.DataFrame(pd.read_csv(\"../input/siim-isic-melanoma-classification/train.csv\"))\n",
    "train.head()"
   ]
  },
  {
   "cell_type": "code",
   "execution_count": 5,
   "metadata": {},
   "outputs": [
    {
     "data": {
      "text/html": [
       "<div>\n",
       "<style scoped>\n",
       "    .dataframe tbody tr th:only-of-type {\n",
       "        vertical-align: middle;\n",
       "    }\n",
       "\n",
       "    .dataframe tbody tr th {\n",
       "        vertical-align: top;\n",
       "    }\n",
       "\n",
       "    .dataframe thead th {\n",
       "        text-align: right;\n",
       "    }\n",
       "</style>\n",
       "<table border=\"1\" class=\"dataframe\">\n",
       "  <thead>\n",
       "    <tr style=\"text-align: right;\">\n",
       "      <th></th>\n",
       "      <th>image_name</th>\n",
       "      <th>patient_id</th>\n",
       "      <th>sex</th>\n",
       "      <th>age_approx</th>\n",
       "      <th>anatom_site_general_challenge</th>\n",
       "    </tr>\n",
       "  </thead>\n",
       "  <tbody>\n",
       "    <tr>\n",
       "      <th>0</th>\n",
       "      <td>ISIC_0052060</td>\n",
       "      <td>IP_3579794</td>\n",
       "      <td>male</td>\n",
       "      <td>70.0</td>\n",
       "      <td>NaN</td>\n",
       "    </tr>\n",
       "    <tr>\n",
       "      <th>1</th>\n",
       "      <td>ISIC_0052349</td>\n",
       "      <td>IP_7782715</td>\n",
       "      <td>male</td>\n",
       "      <td>40.0</td>\n",
       "      <td>lower extremity</td>\n",
       "    </tr>\n",
       "    <tr>\n",
       "      <th>2</th>\n",
       "      <td>ISIC_0058510</td>\n",
       "      <td>IP_7960270</td>\n",
       "      <td>female</td>\n",
       "      <td>55.0</td>\n",
       "      <td>torso</td>\n",
       "    </tr>\n",
       "    <tr>\n",
       "      <th>3</th>\n",
       "      <td>ISIC_0073313</td>\n",
       "      <td>IP_6375035</td>\n",
       "      <td>female</td>\n",
       "      <td>50.0</td>\n",
       "      <td>torso</td>\n",
       "    </tr>\n",
       "    <tr>\n",
       "      <th>4</th>\n",
       "      <td>ISIC_0073502</td>\n",
       "      <td>IP_0589375</td>\n",
       "      <td>female</td>\n",
       "      <td>45.0</td>\n",
       "      <td>lower extremity</td>\n",
       "    </tr>\n",
       "  </tbody>\n",
       "</table>\n",
       "</div>"
      ],
      "text/plain": [
       "     image_name  patient_id     sex  age_approx anatom_site_general_challenge\n",
       "0  ISIC_0052060  IP_3579794    male        70.0                           NaN\n",
       "1  ISIC_0052349  IP_7782715    male        40.0               lower extremity\n",
       "2  ISIC_0058510  IP_7960270  female        55.0                         torso\n",
       "3  ISIC_0073313  IP_6375035  female        50.0                         torso\n",
       "4  ISIC_0073502  IP_0589375  female        45.0               lower extremity"
      ]
     },
     "execution_count": 5,
     "metadata": {},
     "output_type": "execute_result"
    }
   ],
   "source": [
    "test = pd.DataFrame(pd.read_csv(\"../input/siim-isic-melanoma-classification/test.csv\"))\n",
    "test.head()"
   ]
  },
  {
   "cell_type": "code",
   "execution_count": 6,
   "metadata": {},
   "outputs": [
    {
     "name": "stdout",
     "output_type": "stream",
     "text": [
      "<class 'pandas.core.frame.DataFrame'>\n",
      "RangeIndex: 33126 entries, 0 to 33125\n",
      "Data columns (total 8 columns):\n",
      " #   Column                         Non-Null Count  Dtype  \n",
      "---  ------                         --------------  -----  \n",
      " 0   image_name                     33126 non-null  object \n",
      " 1   patient_id                     33126 non-null  object \n",
      " 2   sex                            33061 non-null  object \n",
      " 3   age_approx                     33058 non-null  float64\n",
      " 4   anatom_site_general_challenge  32599 non-null  object \n",
      " 5   diagnosis                      33126 non-null  object \n",
      " 6   benign_malignant               33126 non-null  object \n",
      " 7   target                         33126 non-null  int64  \n",
      "dtypes: float64(1), int64(1), object(6)\n",
      "memory usage: 2.0+ MB\n"
     ]
    }
   ],
   "source": [
    "train.info()"
   ]
  },
  {
   "cell_type": "code",
   "execution_count": 7,
   "metadata": {},
   "outputs": [
    {
     "name": "stdout",
     "output_type": "stream",
     "text": [
      "<class 'pandas.core.frame.DataFrame'>\n",
      "RangeIndex: 10982 entries, 0 to 10981\n",
      "Data columns (total 5 columns):\n",
      " #   Column                         Non-Null Count  Dtype  \n",
      "---  ------                         --------------  -----  \n",
      " 0   image_name                     10982 non-null  object \n",
      " 1   patient_id                     10982 non-null  object \n",
      " 2   sex                            10982 non-null  object \n",
      " 3   age_approx                     10982 non-null  float64\n",
      " 4   anatom_site_general_challenge  10631 non-null  object \n",
      "dtypes: float64(1), object(4)\n",
      "memory usage: 429.1+ KB\n"
     ]
    }
   ],
   "source": [
    "test.info()"
   ]
  },
  {
   "cell_type": "code",
   "execution_count": 8,
   "metadata": {},
   "outputs": [
    {
     "name": "stdout",
     "output_type": "stream",
     "text": [
      "(5000, 11)\n",
      "(5000, 11)\n",
      "(5000, 11)\n",
      "(5000, 11)\n",
      "(5000, 11)\n",
      "(8126, 11)\n"
     ]
    }
   ],
   "source": [
    "train_image_stats_01 = pd.DataFrame(pd.read_csv(\"../input/melanoma-image-insights/melanoma_image_statistics_compiled_01\"))\n",
    "train_image_stats_02 = pd.DataFrame(pd.read_csv(\"../input/melanoma-image-insights/melanoma_image_statistics_compiled_02\"))\n",
    "train_image_stats_03 = pd.DataFrame(pd.read_csv(\"../input/melanoma-image-insights/melanoma_image_statistics_compiled_03\"))\n",
    "train_image_stats_04 = pd.DataFrame(pd.read_csv(\"../input/melanoma-image-insights/melanoma_image_statistics_compiled_04\"))\n",
    "train_image_stats_05 = pd.DataFrame(pd.read_csv(\"../input/melanoma-image-insights/melanoma_image_statistics_compiled_05\"))\n",
    "train_image_stats_06 = pd.DataFrame(pd.read_csv(\"../input/melanoma-image-insights/melanoma_image_statistics_compiled_06\"))\n",
    "\n",
    "print(train_image_stats_01.shape)\n",
    "print(train_image_stats_02.shape)\n",
    "print(train_image_stats_03.shape)\n",
    "print(train_image_stats_04.shape)\n",
    "print(train_image_stats_05.shape)\n",
    "print(train_image_stats_06.shape)"
   ]
  },
  {
   "cell_type": "code",
   "execution_count": 9,
   "metadata": {},
   "outputs": [
    {
     "data": {
      "text/plain": [
       "(33126, 11)"
      ]
     },
     "execution_count": 9,
     "metadata": {},
     "output_type": "execute_result"
    }
   ],
   "source": [
    "train_image_statistics = pd.concat([train_image_stats_01, train_image_stats_02, train_image_stats_03,\n",
    "                                   train_image_stats_04, train_image_stats_05, train_image_stats_06],\n",
    "                                  ignore_index = True)\n",
    "train_image_statistics.shape"
   ]
  },
  {
   "cell_type": "code",
   "execution_count": 10,
   "metadata": {},
   "outputs": [
    {
     "data": {
      "text/html": [
       "<div>\n",
       "<style scoped>\n",
       "    .dataframe tbody tr th:only-of-type {\n",
       "        vertical-align: middle;\n",
       "    }\n",
       "\n",
       "    .dataframe tbody tr th {\n",
       "        vertical-align: top;\n",
       "    }\n",
       "\n",
       "    .dataframe thead th {\n",
       "        text-align: right;\n",
       "    }\n",
       "</style>\n",
       "<table border=\"1\" class=\"dataframe\">\n",
       "  <thead>\n",
       "    <tr style=\"text-align: right;\">\n",
       "      <th></th>\n",
       "      <th>image_name</th>\n",
       "      <th>path</th>\n",
       "      <th>rows</th>\n",
       "      <th>columns</th>\n",
       "      <th>channels</th>\n",
       "      <th>image_mean</th>\n",
       "      <th>image_standard_deviation</th>\n",
       "      <th>image_skewness</th>\n",
       "      <th>mean_red_value</th>\n",
       "      <th>mean_green_value</th>\n",
       "      <th>mean_blue_value</th>\n",
       "    </tr>\n",
       "  </thead>\n",
       "  <tbody>\n",
       "    <tr>\n",
       "      <th>0</th>\n",
       "      <td>ISIC_2637011.jpg</td>\n",
       "      <td>/kaggle/input/siim-isic-melanoma-classificatio...</td>\n",
       "      <td>4000</td>\n",
       "      <td>6000</td>\n",
       "      <td>3</td>\n",
       "      <td>169.862452</td>\n",
       "      <td>41.270046</td>\n",
       "      <td>-0.129492</td>\n",
       "      <td>212.933646</td>\n",
       "      <td>138.914514</td>\n",
       "      <td>157.739197</td>\n",
       "    </tr>\n",
       "    <tr>\n",
       "      <th>1</th>\n",
       "      <td>ISIC_0015719.jpg</td>\n",
       "      <td>/kaggle/input/siim-isic-melanoma-classificatio...</td>\n",
       "      <td>4000</td>\n",
       "      <td>6000</td>\n",
       "      <td>3</td>\n",
       "      <td>171.084778</td>\n",
       "      <td>41.994142</td>\n",
       "      <td>-0.205430</td>\n",
       "      <td>217.279705</td>\n",
       "      <td>165.095320</td>\n",
       "      <td>130.879309</td>\n",
       "    </tr>\n",
       "    <tr>\n",
       "      <th>2</th>\n",
       "      <td>ISIC_0052212.jpg</td>\n",
       "      <td>/kaggle/input/siim-isic-melanoma-classificatio...</td>\n",
       "      <td>1053</td>\n",
       "      <td>1872</td>\n",
       "      <td>3</td>\n",
       "      <td>158.691048</td>\n",
       "      <td>37.364873</td>\n",
       "      <td>-0.551454</td>\n",
       "      <td>199.940391</td>\n",
       "      <td>130.224750</td>\n",
       "      <td>145.908002</td>\n",
       "    </tr>\n",
       "    <tr>\n",
       "      <th>3</th>\n",
       "      <td>ISIC_0068279.jpg</td>\n",
       "      <td>/kaggle/input/siim-isic-melanoma-classificatio...</td>\n",
       "      <td>1053</td>\n",
       "      <td>1872</td>\n",
       "      <td>3</td>\n",
       "      <td>80.342856</td>\n",
       "      <td>44.885518</td>\n",
       "      <td>0.453018</td>\n",
       "      <td>119.689502</td>\n",
       "      <td>62.614801</td>\n",
       "      <td>58.724265</td>\n",
       "    </tr>\n",
       "    <tr>\n",
       "      <th>4</th>\n",
       "      <td>ISIC_0074268.jpg</td>\n",
       "      <td>/kaggle/input/siim-isic-melanoma-classificatio...</td>\n",
       "      <td>4000</td>\n",
       "      <td>6000</td>\n",
       "      <td>3</td>\n",
       "      <td>183.955453</td>\n",
       "      <td>37.497829</td>\n",
       "      <td>-0.157002</td>\n",
       "      <td>226.269270</td>\n",
       "      <td>173.175601</td>\n",
       "      <td>152.421488</td>\n",
       "    </tr>\n",
       "  </tbody>\n",
       "</table>\n",
       "</div>"
      ],
      "text/plain": [
       "         image_name                                               path  rows  \\\n",
       "0  ISIC_2637011.jpg  /kaggle/input/siim-isic-melanoma-classificatio...  4000   \n",
       "1  ISIC_0015719.jpg  /kaggle/input/siim-isic-melanoma-classificatio...  4000   \n",
       "2  ISIC_0052212.jpg  /kaggle/input/siim-isic-melanoma-classificatio...  1053   \n",
       "3  ISIC_0068279.jpg  /kaggle/input/siim-isic-melanoma-classificatio...  1053   \n",
       "4  ISIC_0074268.jpg  /kaggle/input/siim-isic-melanoma-classificatio...  4000   \n",
       "\n",
       "   columns  channels  image_mean  image_standard_deviation  image_skewness  \\\n",
       "0     6000         3  169.862452                 41.270046       -0.129492   \n",
       "1     6000         3  171.084778                 41.994142       -0.205430   \n",
       "2     1872         3  158.691048                 37.364873       -0.551454   \n",
       "3     1872         3   80.342856                 44.885518        0.453018   \n",
       "4     6000         3  183.955453                 37.497829       -0.157002   \n",
       "\n",
       "   mean_red_value  mean_green_value  mean_blue_value  \n",
       "0      212.933646        138.914514       157.739197  \n",
       "1      217.279705        165.095320       130.879309  \n",
       "2      199.940391        130.224750       145.908002  \n",
       "3      119.689502         62.614801        58.724265  \n",
       "4      226.269270        173.175601       152.421488  "
      ]
     },
     "execution_count": 10,
     "metadata": {},
     "output_type": "execute_result"
    }
   ],
   "source": [
    "train_image_statistics.head()"
   ]
  },
  {
   "cell_type": "code",
   "execution_count": 11,
   "metadata": {},
   "outputs": [
    {
     "name": "stdout",
     "output_type": "stream",
     "text": [
      "<class 'pandas.core.frame.DataFrame'>\n",
      "RangeIndex: 33126 entries, 0 to 33125\n",
      "Data columns (total 11 columns):\n",
      " #   Column                    Non-Null Count  Dtype  \n",
      "---  ------                    --------------  -----  \n",
      " 0   image_name                33126 non-null  object \n",
      " 1   path                      33126 non-null  object \n",
      " 2   rows                      33126 non-null  int64  \n",
      " 3   columns                   33126 non-null  int64  \n",
      " 4   channels                  33126 non-null  int64  \n",
      " 5   image_mean                33126 non-null  float64\n",
      " 6   image_standard_deviation  33126 non-null  float64\n",
      " 7   image_skewness            33126 non-null  float64\n",
      " 8   mean_red_value            33126 non-null  float64\n",
      " 9   mean_green_value          33126 non-null  float64\n",
      " 10  mean_blue_value           33126 non-null  float64\n",
      "dtypes: float64(6), int64(3), object(2)\n",
      "memory usage: 2.8+ MB\n"
     ]
    }
   ],
   "source": [
    "train_image_statistics.info()"
   ]
  },
  {
   "cell_type": "code",
   "execution_count": 12,
   "metadata": {},
   "outputs": [],
   "source": [
    "#dataset = train_image_statistics.copy()\n",
    "#dataset.head()"
   ]
  },
  {
   "cell_type": "code",
   "execution_count": 13,
   "metadata": {},
   "outputs": [
    {
     "data": {
      "text/plain": [
       "'\\ndataset.drop([\"rows\", \"columns\", \"channels\", \"image_mean\", \"image_standard_deviation\", \"image_skewness\",\\n            \"mean_red_value\", \"mean_green_value\", \"mean_blue_value\"], axis = 1, inplace = True)\\n'"
      ]
     },
     "execution_count": 13,
     "metadata": {},
     "output_type": "execute_result"
    }
   ],
   "source": [
    "\"\"\"\n",
    "dataset.drop([\"rows\", \"columns\", \"channels\", \"image_mean\", \"image_standard_deviation\", \"image_skewness\",\n",
    "            \"mean_red_value\", \"mean_green_value\", \"mean_blue_value\"], axis = 1, inplace = True)\n",
    "\"\"\""
   ]
  },
  {
   "cell_type": "code",
   "execution_count": 14,
   "metadata": {},
   "outputs": [
    {
     "data": {
      "text/plain": [
       "'\\nlabels = []\\nfor name in tqdm(dataset[\"image_name\"]) : \\n    name = name.split(\".\")[0]\\n    segment = train[train[\"image_name\"] == name]\\n    label = segment[\"target\"].values[0]\\n    labels.append(label)\\n'"
      ]
     },
     "execution_count": 14,
     "metadata": {},
     "output_type": "execute_result"
    }
   ],
   "source": [
    "\"\"\"\n",
    "labels = []\n",
    "for name in tqdm(dataset[\"image_name\"]) : \n",
    "    name = name.split(\".\")[0]\n",
    "    segment = train[train[\"image_name\"] == name]\n",
    "    label = segment[\"target\"].values[0]\n",
    "    labels.append(label)\n",
    "\"\"\""
   ]
  },
  {
   "cell_type": "code",
   "execution_count": 15,
   "metadata": {},
   "outputs": [],
   "source": [
    "#dataset[\"target\"] = labels\n",
    "# dataset.to_csv(\"siim-isic-train-path-target.csv\", index = False, header = True)"
   ]
  },
  {
   "cell_type": "code",
   "execution_count": 16,
   "metadata": {},
   "outputs": [
    {
     "name": "stdout",
     "output_type": "stream",
     "text": [
      "Shape of the dataframe =  (33126, 3)\n"
     ]
    }
   ],
   "source": [
    "dataset = pd.DataFrame(pd.read_csv(\"../input/melanoma-image-insights/siim-isic-train-path-target.csv\"))\n",
    "print(\"Shape of the dataframe = \", dataset.shape)"
   ]
  },
  {
   "cell_type": "code",
   "execution_count": 17,
   "metadata": {},
   "outputs": [
    {
     "data": {
      "text/html": [
       "<div>\n",
       "<style scoped>\n",
       "    .dataframe tbody tr th:only-of-type {\n",
       "        vertical-align: middle;\n",
       "    }\n",
       "\n",
       "    .dataframe tbody tr th {\n",
       "        vertical-align: top;\n",
       "    }\n",
       "\n",
       "    .dataframe thead th {\n",
       "        text-align: right;\n",
       "    }\n",
       "</style>\n",
       "<table border=\"1\" class=\"dataframe\">\n",
       "  <thead>\n",
       "    <tr style=\"text-align: right;\">\n",
       "      <th></th>\n",
       "      <th>image_name</th>\n",
       "      <th>path</th>\n",
       "      <th>target</th>\n",
       "    </tr>\n",
       "  </thead>\n",
       "  <tbody>\n",
       "    <tr>\n",
       "      <th>0</th>\n",
       "      <td>ISIC_2637011.jpg</td>\n",
       "      <td>/kaggle/input/siim-isic-melanoma-classificatio...</td>\n",
       "      <td>0</td>\n",
       "    </tr>\n",
       "    <tr>\n",
       "      <th>1</th>\n",
       "      <td>ISIC_0015719.jpg</td>\n",
       "      <td>/kaggle/input/siim-isic-melanoma-classificatio...</td>\n",
       "      <td>0</td>\n",
       "    </tr>\n",
       "    <tr>\n",
       "      <th>2</th>\n",
       "      <td>ISIC_0052212.jpg</td>\n",
       "      <td>/kaggle/input/siim-isic-melanoma-classificatio...</td>\n",
       "      <td>0</td>\n",
       "    </tr>\n",
       "    <tr>\n",
       "      <th>3</th>\n",
       "      <td>ISIC_0068279.jpg</td>\n",
       "      <td>/kaggle/input/siim-isic-melanoma-classificatio...</td>\n",
       "      <td>0</td>\n",
       "    </tr>\n",
       "    <tr>\n",
       "      <th>4</th>\n",
       "      <td>ISIC_0074268.jpg</td>\n",
       "      <td>/kaggle/input/siim-isic-melanoma-classificatio...</td>\n",
       "      <td>0</td>\n",
       "    </tr>\n",
       "  </tbody>\n",
       "</table>\n",
       "</div>"
      ],
      "text/plain": [
       "         image_name                                               path  target\n",
       "0  ISIC_2637011.jpg  /kaggle/input/siim-isic-melanoma-classificatio...       0\n",
       "1  ISIC_0015719.jpg  /kaggle/input/siim-isic-melanoma-classificatio...       0\n",
       "2  ISIC_0052212.jpg  /kaggle/input/siim-isic-melanoma-classificatio...       0\n",
       "3  ISIC_0068279.jpg  /kaggle/input/siim-isic-melanoma-classificatio...       0\n",
       "4  ISIC_0074268.jpg  /kaggle/input/siim-isic-melanoma-classificatio...       0"
      ]
     },
     "execution_count": 17,
     "metadata": {},
     "output_type": "execute_result"
    }
   ],
   "source": [
    "dataset.head()"
   ]
  },
  {
   "cell_type": "markdown",
   "execution_count": null,
   "metadata": {},
   "source": [
    "We split in train and val."
   ]
  },
  {
   "cell_type": "code",
   "execution_count": 18,
   "metadata": {},
   "outputs": [
    {
     "name": "stdout",
     "output_type": "stream",
     "text": [
      "Shape of training set =  (27494, 3)\n",
      "Shape of validation set =  (5632, 3)\n"
     ]
    }
   ],
   "source": [
    "from sklearn.model_selection import StratifiedShuffleSplit\n",
    "split_object = StratifiedShuffleSplit(n_splits = 1, test_size = 0.17, random_state = 42)\n",
    "for train_index, val_index in split_object.split(dataset, dataset[\"target\"]) : \n",
    "    training_set = dataset.loc[train_index]\n",
    "    validation_set = dataset.loc[val_index]\n",
    "\n",
    "print(\"Shape of training set = \", training_set.shape)\n",
    "print(\"Shape of validation set = \", validation_set.shape)"
   ]
  },
  {
   "cell_type": "markdown",
   "execution_count": null,
   "metadata": {},
   "source": [
    "Observing the distribution"
   ]
  },
  {
   "cell_type": "code",
   "execution_count": 19,
   "metadata": {},
   "outputs": [
    {
     "data": {
      "image/png": "[encoded data removed]",
      "text/plain": [
       "<Figure size 720x720 with 2 Axes>"
      ]
     },
     "metadata": {},
     "output_type": "display_data"
    }
   ],
   "source": [
    "train_malignant = len(training_set[training_set[\"target\"] == 1])\n",
    "train_benign = len(training_set[training_set[\"target\"] == 0])\n",
    "val_malignant = len(validation_set[validation_set[\"target\"] == 1])\n",
    "val_benign = len(validation_set[validation_set[\"target\"] == 0])\n",
    "\n",
    "labels = [\"malignant\", \"benign\"]\n",
    "size_train = [train_malignant, train_benign]\n",
    "size_val = [val_malignant, val_benign]\n",
    "\n",
    "plt.figure(figsize = (10, 10))\n",
    "plt.subplot(1,2,1)\n",
    "plt.pie(size_train, labels = labels, shadow = True, startangle = 90, colors = [\"r\", \"g\"])\n",
    "plt.title(\"Malignant VS Benign / TRAIN\", fontsize = 14)\n",
    "plt.legend()\n",
    "\n",
    "plt.subplot(1,2,2)\n",
    "plt.pie(size_val, labels = labels, shadow = True, startangle = 90, colors = [\"r\", \"g\"])\n",
    "plt.title(\"Malignant VS Benign / VAL\", fontsize = 14)\n",
    "plt.legend()\n",
    "\n",
    "plt.tight_layout()"
   ]
  },
  {
   "cell_type": "code",
   "execution_count": 20,
   "metadata": {},
   "outputs": [],
   "source": [
    "datagen = tf.keras.preprocessing.image.ImageDataGenerator(rescale = 1/255.0)"
   ]
  },
  {
   "cell_type": "code",
   "execution_count": 21,
   "metadata": {},
   "outputs": [
    {
     "name": "stdout",
     "output_type": "stream",
     "text": [
      "Found 27494 validated image filenames.\n"
     ]
    }
   ],
   "source": [
    "train_generator = datagen.flow_from_dataframe(dataframe = training_set, directory = \"../input/siim-isic-melanoma-classification/jpeg/\",\n",
    "                                             x_col = \"path\", y_col = \"target\", batch_size = 32, seed = 42,\n",
    "                                             shuffle = True, class_mode = \"raw\", target_size = (256, 256))"
   ]
  },
  {
   "cell_type": "code",
   "execution_count": 22,
   "metadata": {},
   "outputs": [
    {
     "name": "stdout",
     "output_type": "stream",
     "text": [
      "Found 5632 validated image filenames.\n"
     ]
    }
   ],
   "source": [
    "validation_generator = datagen.flow_from_dataframe(dataframe = validation_set, directory = \"../input/siim-isic-melanoma-classification/jpeg/\",\n",
    "                                             x_col = \"path\", y_col = \"target\", batch_size = 32, seed = 42,\n",
    "                                             shuffle = True, class_mode = \"raw\", target_size = (256, 256))"
   ]
  }
 ],
 "metadata": {
  "kernelspec": {
   "display_name": "Python 3",
   "language": "python",
   "name": "python3"
  },
  "language_info": {
   "codemirror_mode": {
    "name": "ipython",
    "version": 3
   },
   "file_extension": ".py",
   "mimetype": "text/x-python",
   "name": "python",
   "nbconvert_exporter": "python",
   "pygments_lexer": "ipython3",
   "version": "3.7.6"
  }
 },
 "nbformat": 4,
 "nbformat_minor": 4
}
